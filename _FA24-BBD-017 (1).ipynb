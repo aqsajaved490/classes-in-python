{
 "cells": [
  {
   "cell_type": "code",
   "execution_count": 1,
   "id": "41d7e08b-0893-4aa2-b8d8-56dac37bc1e3",
   "metadata": {},
   "outputs": [
    {
     "name": "stdout",
     "output_type": "stream",
     "text": [
      "Alice, 30 years old, lives in New York\n"
     ]
    }
   ],
   "source": [
    "#Question no 1 \n",
    "class Person:\n",
    "    def __init__(self, name, age, city):\n",
    "      \n",
    "        self.name = name\n",
    "        self.age = age\n",
    "        self.city = city\n",
    "\n",
    "    def __str__(self):\n",
    "       \n",
    "        return f\"{self.name}, {self.age} years old, lives in {self.city}\"\n",
    "person1 = Person(\"Alice\", 30, \"New York\")\n",
    "print(person1)\n"
   ]
  },
  {
   "cell_type": "code",
   "execution_count": 3,
   "id": "b9db8af3-ea3a-48ae-8d63-6d439b1e7b63",
   "metadata": {},
   "outputs": [
    {
     "name": "stdout",
     "output_type": "stream",
     "text": [
      "2022 Toyota Camry\n"
     ]
    }
   ],
   "source": [
    "#question no 2\n",
    "class Car:\n",
    "    def __init__(self, make, model, year):\n",
    "      \n",
    "        self.make = make\n",
    "        self.model = model\n",
    "        self.year = year\n",
    "\n",
    "    def __str__(self):\n",
    "\n",
    "        return f\"{self.year} {self.make} {self.model}\"\n",
    "car1 = Car(\"Toyota\", \"Camry\", 2022)\n",
    "print(car1)\n"
   ]
  },
  {
   "cell_type": "code",
   "execution_count": 25,
   "id": "8ba8a975-19ec-458b-be6b-d309811ae7e9",
   "metadata": {},
   "outputs": [
    {
     "name": "stdout",
     "output_type": "stream",
     "text": [
      "Circle area: 78.54\n",
      "Circle circumference: 31.42\n"
     ]
    }
   ],
   "source": [
    "#Question no 3\n",
    "import math\n",
    "\n",
    "class Circle:\n",
    "    def __init__(self, radius):\n",
    "       \n",
    "        self.radius = radius\n",
    "    \n",
    "    def area(self):\n",
    "       \n",
    "        return math.pi * (self.radius ** 2)\n",
    "    \n",
    "    def circumference(self):\n",
    "       \n",
    "        return 2 * math.pi * self.radius\n",
    "\n",
    "# Example usage\n",
    "if __name__ == \"__main__\":\n",
    "    # Create a Circle object with radius 5\n",
    "    circle = Circle(radius=5)\n",
    "    \n",
    "    # Display the area and circumference\n",
    "    print(f\"Circle area: {circle.area():.2f}\")\n",
    "    print(f\"Circle circumference: {circle.circumference():.2f}\")\n",
    "    "
   ]
  },
  {
   "cell_type": "code",
   "execution_count": 27,
   "id": "f22b337d-9c3c-451b-a0fd-196743af31e5",
   "metadata": {},
   "outputs": [
    {
     "name": "stdout",
     "output_type": "stream",
     "text": [
      "Rectangle area: 28\n",
      "Rectangle perimeter: 22\n"
     ]
    }
   ],
   "source": [
    "#question no 4\n",
    "class Rectangle:\n",
    "    def __init__(self, length, width):\n",
    "        self.length = length\n",
    "        self.width = width\n",
    "    \n",
    "    def area(self):\n",
    "        return self.length * self.width\n",
    "    \n",
    "    def perimeter(self):\n",
    "               return 2 * (self.length + self.width)\n",
    "\n",
    "# Example usage\n",
    "if __name__ == \"__main__\":\n",
    "    # Create a Rectangle object with length 4 and width 7\n",
    "    rectangle = Rectangle(length=4, width=7)\n",
    "    \n",
    "    # Display the area and perimeter\n",
    "    print(f\"Rectangle area: {rectangle.area()}\")\n",
    "    print(f\"Rectangle perimeter: {rectangle.perimeter()}\")\n"
   ]
  },
  {
   "cell_type": "code",
   "execution_count": 9,
   "id": "314f05e3-c1d9-4f3b-98a0-db3efa2a4b12",
   "metadata": {},
   "outputs": [
    {
     "name": "stdout",
     "output_type": "stream",
     "text": [
      "Student Alice (Roll No: 101)\n",
      "Average Marks: 86.25\n"
     ]
    }
   ],
   "source": [
    "#question no 5\n",
    "class Student:\n",
    "    def __init__(self, name, roll_number, marks):\n",
    "      \n",
    "        self.name = name\n",
    "        self.roll_number = roll_number\n",
    "        self.marks = marks\n",
    "\n",
    "    def calculate_average(self):\n",
    "       \n",
    "        if len(self.marks) == 0:\n",
    "            return 0\n",
    "        return sum(self.marks) / len(self.marks)\n",
    "\n",
    "    def __str__(self):\n",
    "      \n",
    "        return f\"Student {self.name} (Roll No: {self.roll_number})\"\n",
    "student1 = Student(\"Alice\", 101, [85, 90, 78, 92])\n",
    "print(student1)\n",
    "print(f\"Average Marks: {student1.calculate_average():.2f}\")\n"
   ]
  },
  {
   "cell_type": "code",
   "execution_count": 11,
   "id": "fbdc9eec-b30d-4a1e-89ff-f86b76d7bca6",
   "metadata": {},
   "outputs": [
    {
     "name": "stdout",
     "output_type": "stream",
     "text": [
      "'To Kill a Mockingbird' by Harper Lee (1960)\n"
     ]
    }
   ],
   "source": [
    "#question no 6\n",
    "class Book:\n",
    "    def __init__(self, title, author, publication_year):\n",
    "    \n",
    "        self.title = title\n",
    "        self.author = author\n",
    "        self.publication_year = publication_year\n",
    "\n",
    "    def __str__(self):\n",
    "      \n",
    "        return f\"'{self.title}' by {self.author} ({self.publication_year})\"\n",
    "book1 = Book(\"To Kill a Mockingbird\", \"Harper Lee\", 1960)\n",
    "print(book1)\n"
   ]
  },
  {
   "cell_type": "code",
   "execution_count": 13,
   "id": "5c984f89-5695-4a70-872a-d200958ee54a",
   "metadata": {},
   "outputs": [
    {
     "name": "stdout",
     "output_type": "stream",
     "text": [
      "Employee John Doe, Designation: Software Engineer, Salary: 75000.00\n"
     ]
    }
   ],
   "source": [
    "#question no 7\n",
    "class Employee:\n",
    "    def __init__(self, name, salary, designation):\n",
    "      \n",
    "        self.name = name\n",
    "        self.salary = salary\n",
    "        self.designation = designation\n",
    "\n",
    "    def __str__(self):\n",
    "      \n",
    "        return f\"Employee {self.name}, Designation: {self.designation}, Salary: {self.salary:.2f}\"\n",
    "employee1 = Employee(\"John Doe\", 75000, \"Software Engineer\")\n",
    "print(employee1)\n"
   ]
  },
  {
   "cell_type": "code",
   "execution_count": 15,
   "id": "7dcf9ff9-5184-4122-b5b2-7684d915cc59",
   "metadata": {},
   "outputs": [
    {
     "name": "stdout",
     "output_type": "stream",
     "text": [
      "Account Holder: Alice, Account Number: 123456789, Balance: 1000.00\n",
      "Deposited 500.00. New balance: 1500.00\n",
      "Withdrew 300.00. New balance: 1200.00\n",
      "Insufficient balance.\n"
     ]
    },
    {
     "data": {
      "text/plain": [
       "1200"
      ]
     },
     "execution_count": 15,
     "metadata": {},
     "output_type": "execute_result"
    }
   ],
   "source": [
    "#question no 8\n",
    "class Bank:\n",
    "    def __init__(self, name, account_number, balance=0):\n",
    "       \n",
    "        self.name = name\n",
    "        self.account_number = account_number\n",
    "        self.balance = balance\n",
    "\n",
    "    def deposit(self, amount):\n",
    "      \n",
    "        if amount > 0:\n",
    "            self.balance += amount\n",
    "            print(f\"Deposited {amount:.2f}. New balance: {self.balance:.2f}\")\n",
    "        else:\n",
    "            print(\"Deposit amount must be positive.\")\n",
    "        return self.balance\n",
    "\n",
    "    def withdraw(self, amount):\n",
    "      \n",
    "        if amount > 0:\n",
    "            if amount <= self.balance:\n",
    "                self.balance -= amount\n",
    "                print(f\"Withdrew {amount:.2f}. New balance: {self.balance:.2f}\")\n",
    "            else:\n",
    "                print(\"Insufficient balance.\")\n",
    "        else:\n",
    "            print(\"Withdrawal amount must be positive.\")\n",
    "        return self.balance\n",
    "\n",
    "    def __str__(self):\n",
    "      \n",
    "        return f\"Account Holder: {self.name}, Account Number: {self.account_number}, Balance: {self.balance:.2f}\"\n",
    "account = Bank(\"Alice\", \"123456789\", 1000)\n",
    "print(account)\n",
    "account.deposit(500)\n",
    "account.withdraw(300)\n",
    "account.withdraw(1500)\n"
   ]
  },
  {
   "cell_type": "code",
   "execution_count": 17,
   "id": "bab4e8b0-5957-4fcc-a9b3-7af3f11d59a8",
   "metadata": {},
   "outputs": [
    {
     "name": "stdout",
     "output_type": "stream",
     "text": [
      "Circle area: 78.54\n",
      "Rectangle area: 40.00\n",
      "Triangle area: 9.00\n"
     ]
    }
   ],
   "source": [
    "#question no 9\n",
    "class Shape:\n",
    "    def area(self):\n",
    "      \n",
    "        raise NotImplementedError(\"Subclasses must implement this method.\")\n",
    "\n",
    "class Circle(Shape):\n",
    "    def __init__(self, radius):\n",
    "        self.radius = radius\n",
    "\n",
    "    def area(self):\n",
    "        return 3.14159 * self.radius**2\n",
    "\n",
    "class Rectangle(Shape):\n",
    "    def __init__(self, length, width):\n",
    "        self.length = length\n",
    "        self.width = width\n",
    "\n",
    "    def area(self):\n",
    "        return self.length * self.width\n",
    "\n",
    "class Triangle(Shape):\n",
    "    def __init__(self, base, height):\n",
    "        self.base = base\n",
    "        self.height = height\n",
    "\n",
    "    def area(self):\n",
    "        return 0.5 * self.base * self.height\n",
    "\n",
    "# Example usage:\n",
    "circle = Circle(5)\n",
    "rectangle = Rectangle(10, 4)\n",
    "triangle = Triangle(6, 3)\n",
    "\n",
    "print(f\"Circle area: {circle.area():.2f}\")\n",
    "print(f\"Rectangle area: {rectangle.area():.2f}\")\n",
    "print(f\"Triangle area: {triangle.area():.2f}\")\n"
   ]
  },
  {
   "cell_type": "code",
   "execution_count": null,
   "id": "a9cbfe26-70e1-4a33-8783-4db97be490e8",
   "metadata": {},
   "outputs": [],
   "source": []
  }
 ],
 "metadata": {
  "kernelspec": {
   "display_name": "Python 3 (ipykernel)",
   "language": "python",
   "name": "python3"
  },
  "language_info": {
   "codemirror_mode": {
    "name": "ipython",
    "version": 3
   },
   "file_extension": ".py",
   "mimetype": "text/x-python",
   "name": "python",
   "nbconvert_exporter": "python",
   "pygments_lexer": "ipython3",
   "version": "3.12.7"
  }
 },
 "nbformat": 4,
 "nbformat_minor": 5
}
